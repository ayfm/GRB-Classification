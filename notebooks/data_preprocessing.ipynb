{
 "cells": [
  {
   "attachments": {},
   "cell_type": "markdown",
   "metadata": {},
   "source": [
    "# DATA PREPROCESSING"
   ]
  },
  {
   "cell_type": "code",
   "execution_count": 1,
   "metadata": {},
   "outputs": [],
   "source": [
    "%load_ext autoreload\n",
    "%autoreload 2"
   ]
  },
  {
   "cell_type": "code",
   "execution_count": 2,
   "metadata": {},
   "outputs": [],
   "source": [
    "# add grbttools to path\n",
    "import sys\n",
    "sys.path.append(\"../\")"
   ]
  },
  {
   "cell_type": "code",
   "execution_count": 3,
   "metadata": {},
   "outputs": [],
   "source": [
    "import os\n",
    "import numpy as np\n",
    "import pandas as pd\n",
    "from grbtools import env"
   ]
  },
  {
   "attachments": {},
   "cell_type": "markdown",
   "metadata": {},
   "source": [
    "Load GRBs with Extended Emissions"
   ]
  },
  {
   "cell_type": "code",
   "execution_count": 4,
   "metadata": {},
   "outputs": [
    {
     "data": {
      "text/html": [
       "<div>\n",
       "<style scoped>\n",
       "    .dataframe tbody tr th:only-of-type {\n",
       "        vertical-align: middle;\n",
       "    }\n",
       "\n",
       "    .dataframe tbody tr th {\n",
       "        vertical-align: top;\n",
       "    }\n",
       "\n",
       "    .dataframe thead th {\n",
       "        text-align: right;\n",
       "    }\n",
       "</style>\n",
       "<table border=\"1\" class=\"dataframe\">\n",
       "  <thead>\n",
       "    <tr style=\"text-align: right;\">\n",
       "      <th></th>\n",
       "      <th>catalog</th>\n",
       "      <th>name</th>\n",
       "      <th>trigger_num</th>\n",
       "    </tr>\n",
       "  </thead>\n",
       "  <tbody>\n",
       "    <tr>\n",
       "      <th>40</th>\n",
       "      <td>SWIFT</td>\n",
       "      <td>GRB080503</td>\n",
       "      <td>NaN</td>\n",
       "    </tr>\n",
       "    <tr>\n",
       "      <th>22</th>\n",
       "      <td>FERMI</td>\n",
       "      <td>GRB090131090</td>\n",
       "      <td>NaN</td>\n",
       "    </tr>\n",
       "    <tr>\n",
       "      <th>46</th>\n",
       "      <td>SWIFT</td>\n",
       "      <td>GRB110402A</td>\n",
       "      <td>NaN</td>\n",
       "    </tr>\n",
       "    <tr>\n",
       "      <th>15</th>\n",
       "      <td>BATSE</td>\n",
       "      <td>GRB 990605</td>\n",
       "      <td>7599.0</td>\n",
       "    </tr>\n",
       "    <tr>\n",
       "      <th>23</th>\n",
       "      <td>FERMI</td>\n",
       "      <td>GRB100522157</td>\n",
       "      <td>NaN</td>\n",
       "    </tr>\n",
       "  </tbody>\n",
       "</table>\n",
       "</div>"
      ],
      "text/plain": [
       "   catalog          name  trigger_num\n",
       "40   SWIFT     GRB080503          NaN\n",
       "22   FERMI  GRB090131090          NaN\n",
       "46   SWIFT    GRB110402A          NaN\n",
       "15   BATSE    GRB 990605       7599.0\n",
       "23   FERMI  GRB100522157          NaN"
      ]
     },
     "execution_count": 4,
     "metadata": {},
     "output_type": "execute_result"
    }
   ],
   "source": [
    "# load extended emission catalog\n",
    "path_cat_grb_ee = os.path.join(env.DIR_CATALOGS, \"grb_ee.xlsx\")\n",
    "df_ee = pd.read_excel(path_cat_grb_ee, sheet_name=\"ee\")\n",
    "\n",
    "# show random rows\n",
    "df_ee.sample(5)"
   ]
  },
  {
   "attachments": {},
   "cell_type": "markdown",
   "metadata": {},
   "source": [
    "How many EE GRBs for each catalog?"
   ]
  },
  {
   "cell_type": "code",
   "execution_count": 5,
   "metadata": {},
   "outputs": [
    {
     "data": {
      "text/plain": [
       "BATSE    19\n",
       "SWIFT    16\n",
       "FERMI    14\n",
       "Name: catalog, dtype: int64"
      ]
     },
     "execution_count": 5,
     "metadata": {},
     "output_type": "execute_result"
    }
   ],
   "source": [
    "df_ee['catalog'].value_counts()"
   ]
  },
  {
   "attachments": {},
   "cell_type": "markdown",
   "metadata": {},
   "source": [
    "## BATSE"
   ]
  },
  {
   "attachments": {},
   "cell_type": "markdown",
   "metadata": {},
   "source": [
    "Load BATSE catalog"
   ]
  },
  {
   "cell_type": "code",
   "execution_count": 6,
   "metadata": {},
   "outputs": [
    {
     "data": {
      "text/html": [
       "<div>\n",
       "<style scoped>\n",
       "    .dataframe tbody tr th:only-of-type {\n",
       "        vertical-align: middle;\n",
       "    }\n",
       "\n",
       "    .dataframe tbody tr th {\n",
       "        vertical-align: top;\n",
       "    }\n",
       "\n",
       "    .dataframe thead th {\n",
       "        text-align: right;\n",
       "    }\n",
       "</style>\n",
       "<table border=\"1\" class=\"dataframe\">\n",
       "  <thead>\n",
       "    <tr style=\"text-align: right;\">\n",
       "      <th></th>\n",
       "      <th>name</th>\n",
       "      <th>ra</th>\n",
       "      <th>dec</th>\n",
       "      <th>lii</th>\n",
       "      <th>bii</th>\n",
       "      <th>day_trigger</th>\n",
       "      <th>time</th>\n",
       "      <th>flux_64</th>\n",
       "      <th>flux_256</th>\n",
       "      <th>flux_1024</th>\n",
       "      <th>...</th>\n",
       "      <th>t90</th>\n",
       "      <th>fluence_1</th>\n",
       "      <th>fluence_2</th>\n",
       "      <th>fluence_3</th>\n",
       "      <th>fluence_4</th>\n",
       "      <th>comments_quality</th>\n",
       "      <th>comments_otherobs</th>\n",
       "      <th>comments_general</th>\n",
       "      <th>comments_position</th>\n",
       "      <th>comments_duration</th>\n",
       "    </tr>\n",
       "    <tr>\n",
       "      <th>trigger_num</th>\n",
       "      <th></th>\n",
       "      <th></th>\n",
       "      <th></th>\n",
       "      <th></th>\n",
       "      <th></th>\n",
       "      <th></th>\n",
       "      <th></th>\n",
       "      <th></th>\n",
       "      <th></th>\n",
       "      <th></th>\n",
       "      <th></th>\n",
       "      <th></th>\n",
       "      <th></th>\n",
       "      <th></th>\n",
       "      <th></th>\n",
       "      <th></th>\n",
       "      <th></th>\n",
       "      <th></th>\n",
       "      <th></th>\n",
       "      <th></th>\n",
       "      <th></th>\n",
       "    </tr>\n",
       "  </thead>\n",
       "  <tbody>\n",
       "    <tr>\n",
       "      <th>7060</th>\n",
       "      <td>GRB 980903</td>\n",
       "      <td>139.91</td>\n",
       "      <td>-41.54</td>\n",
       "      <td>266.04</td>\n",
       "      <td>5.68</td>\n",
       "      <td>11059</td>\n",
       "      <td>51059.149346</td>\n",
       "      <td>3.6880</td>\n",
       "      <td>1.3895</td>\n",
       "      <td>0.3676</td>\n",
       "      <td>...</td>\n",
       "      <td>0.146</td>\n",
       "      <td>1.153000e-08</td>\n",
       "      <td>1.078200e-08</td>\n",
       "      <td>7.215800e-08</td>\n",
       "      <td>1.218100e-07</td>\n",
       "      <td>NaN</td>\n",
       "      <td>NaN</td>\n",
       "      <td>NaN</td>\n",
       "      <td>NaN</td>\n",
       "      <td>NaN</td>\n",
       "    </tr>\n",
       "    <tr>\n",
       "      <th>7899</th>\n",
       "      <td>GRB 991210-</td>\n",
       "      <td>302.63</td>\n",
       "      <td>-45.58</td>\n",
       "      <td>354.23</td>\n",
       "      <td>-32.44</td>\n",
       "      <td>11522</td>\n",
       "      <td>51522.436158</td>\n",
       "      <td>2.0091</td>\n",
       "      <td>0.7682</td>\n",
       "      <td>0.2044</td>\n",
       "      <td>...</td>\n",
       "      <td>NaN</td>\n",
       "      <td>8.076400e-09</td>\n",
       "      <td>3.294300e-09</td>\n",
       "      <td>4.217900e-08</td>\n",
       "      <td>0.000000e+00</td>\n",
       "      <td>NaN</td>\n",
       "      <td>NaN</td>\n",
       "      <td>NaN</td>\n",
       "      <td>NaN</td>\n",
       "      <td>NaN</td>\n",
       "    </tr>\n",
       "    <tr>\n",
       "      <th>7601</th>\n",
       "      <td>GRB 990610-</td>\n",
       "      <td>62.35</td>\n",
       "      <td>-41.25</td>\n",
       "      <td>245.43</td>\n",
       "      <td>-47.33</td>\n",
       "      <td>11339</td>\n",
       "      <td>51339.517911</td>\n",
       "      <td>2.1264</td>\n",
       "      <td>1.6549</td>\n",
       "      <td>0.5429</td>\n",
       "      <td>...</td>\n",
       "      <td>0.276</td>\n",
       "      <td>6.115100e-09</td>\n",
       "      <td>1.479600e-08</td>\n",
       "      <td>1.160100e-07</td>\n",
       "      <td>1.228300e-07</td>\n",
       "      <td>NaN</td>\n",
       "      <td>NaN</td>\n",
       "      <td>NaN</td>\n",
       "      <td>NaN</td>\n",
       "      <td>NaN</td>\n",
       "    </tr>\n",
       "    <tr>\n",
       "      <th>5671</th>\n",
       "      <td>GRB 961116</td>\n",
       "      <td>61.27</td>\n",
       "      <td>60.66</td>\n",
       "      <td>144.56</td>\n",
       "      <td>6.20</td>\n",
       "      <td>10403</td>\n",
       "      <td>50403.683342</td>\n",
       "      <td>NaN</td>\n",
       "      <td>NaN</td>\n",
       "      <td>NaN</td>\n",
       "      <td>...</td>\n",
       "      <td>NaN</td>\n",
       "      <td>NaN</td>\n",
       "      <td>NaN</td>\n",
       "      <td>NaN</td>\n",
       "      <td>NaN</td>\n",
       "      <td>NaN</td>\n",
       "      <td>NaN</td>\n",
       "      <td>NaN</td>\n",
       "      <td>NaN</td>\n",
       "      <td>NaN</td>\n",
       "    </tr>\n",
       "    <tr>\n",
       "      <th>2380</th>\n",
       "      <td>4B 930607</td>\n",
       "      <td>163.44</td>\n",
       "      <td>35.64</td>\n",
       "      <td>186.80</td>\n",
       "      <td>63.60</td>\n",
       "      <td>9145</td>\n",
       "      <td>49145.880668</td>\n",
       "      <td>1.1980</td>\n",
       "      <td>0.9620</td>\n",
       "      <td>0.8550</td>\n",
       "      <td>...</td>\n",
       "      <td>81.984</td>\n",
       "      <td>3.707800e-07</td>\n",
       "      <td>6.500100e-07</td>\n",
       "      <td>2.905500e-06</td>\n",
       "      <td>2.013100e-06</td>\n",
       "      <td>NaN</td>\n",
       "      <td>NaN</td>\n",
       "      <td>Occultation step (decay) at ~T+300s in LAD 3 (...</td>\n",
       "      <td>NaN</td>\n",
       "      <td>NaN</td>\n",
       "    </tr>\n",
       "  </tbody>\n",
       "</table>\n",
       "<p>5 rows × 21 columns</p>\n",
       "</div>"
      ],
      "text/plain": [
       "                    name      ra    dec     lii    bii  day_trigger  \\\n",
       "trigger_num                                                           \n",
       "7060          GRB 980903  139.91 -41.54  266.04   5.68        11059   \n",
       "7899         GRB 991210-  302.63 -45.58  354.23 -32.44        11522   \n",
       "7601         GRB 990610-   62.35 -41.25  245.43 -47.33        11339   \n",
       "5671          GRB 961116   61.27  60.66  144.56   6.20        10403   \n",
       "2380           4B 930607  163.44  35.64  186.80  63.60         9145   \n",
       "\n",
       "                     time  flux_64  flux_256  flux_1024  ...     t90  \\\n",
       "trigger_num                                              ...           \n",
       "7060         51059.149346   3.6880    1.3895     0.3676  ...   0.146   \n",
       "7899         51522.436158   2.0091    0.7682     0.2044  ...     NaN   \n",
       "7601         51339.517911   2.1264    1.6549     0.5429  ...   0.276   \n",
       "5671         50403.683342      NaN       NaN        NaN  ...     NaN   \n",
       "2380         49145.880668   1.1980    0.9620     0.8550  ...  81.984   \n",
       "\n",
       "                fluence_1     fluence_2     fluence_3     fluence_4  \\\n",
       "trigger_num                                                           \n",
       "7060         1.153000e-08  1.078200e-08  7.215800e-08  1.218100e-07   \n",
       "7899         8.076400e-09  3.294300e-09  4.217900e-08  0.000000e+00   \n",
       "7601         6.115100e-09  1.479600e-08  1.160100e-07  1.228300e-07   \n",
       "5671                  NaN           NaN           NaN           NaN   \n",
       "2380         3.707800e-07  6.500100e-07  2.905500e-06  2.013100e-06   \n",
       "\n",
       "             comments_quality comments_otherobs  \\\n",
       "trigger_num                                       \n",
       "7060                      NaN               NaN   \n",
       "7899                      NaN               NaN   \n",
       "7601                      NaN               NaN   \n",
       "5671                      NaN               NaN   \n",
       "2380                      NaN               NaN   \n",
       "\n",
       "                                              comments_general  \\\n",
       "trigger_num                                                      \n",
       "7060                                                       NaN   \n",
       "7899                                                       NaN   \n",
       "7601                                                       NaN   \n",
       "5671                                                       NaN   \n",
       "2380         Occultation step (decay) at ~T+300s in LAD 3 (...   \n",
       "\n",
       "            comments_position comments_duration  \n",
       "trigger_num                                      \n",
       "7060                      NaN               NaN  \n",
       "7899                      NaN               NaN  \n",
       "7601                      NaN               NaN  \n",
       "5671                      NaN               NaN  \n",
       "2380                      NaN               NaN  \n",
       "\n",
       "[5 rows x 21 columns]"
      ]
     },
     "execution_count": 6,
     "metadata": {},
     "output_type": "execute_result"
    }
   ],
   "source": [
    "# load batse catalog\n",
    "path_cat_batse = os.path.join(env.DIR_CATALOGS, \"batse_catalog.xlsx\")\n",
    "df_batse = pd.read_excel(path_cat_batse, sheet_name=\"batsegrb\")\n",
    "\n",
    "# set trigger_num as index\n",
    "df_batse.set_index(\"trigger_num\", inplace=True)\n",
    "\n",
    "# show random rows\n",
    "df_batse.sample(5)"
   ]
  },
  {
   "attachments": {},
   "cell_type": "markdown",
   "metadata": {},
   "source": [
    "Load redshift values for BATSE catalog"
   ]
  },
  {
   "cell_type": "code",
   "execution_count": 7,
   "metadata": {},
   "outputs": [
    {
     "data": {
      "text/html": [
       "<div>\n",
       "<style scoped>\n",
       "    .dataframe tbody tr th:only-of-type {\n",
       "        vertical-align: middle;\n",
       "    }\n",
       "\n",
       "    .dataframe tbody tr th {\n",
       "        vertical-align: top;\n",
       "    }\n",
       "\n",
       "    .dataframe thead th {\n",
       "        text-align: right;\n",
       "    }\n",
       "</style>\n",
       "<table border=\"1\" class=\"dataframe\">\n",
       "  <thead>\n",
       "    <tr style=\"text-align: right;\">\n",
       "      <th></th>\n",
       "      <th>p256</th>\n",
       "      <th>t90</th>\n",
       "      <th>V</th>\n",
       "      <th>z</th>\n",
       "      <th>L4pi</th>\n",
       "    </tr>\n",
       "    <tr>\n",
       "      <th>trigger_num</th>\n",
       "      <th></th>\n",
       "      <th></th>\n",
       "      <th></th>\n",
       "      <th></th>\n",
       "      <th></th>\n",
       "    </tr>\n",
       "  </thead>\n",
       "  <tbody>\n",
       "    <tr>\n",
       "      <th>5450</th>\n",
       "      <td>4.15</td>\n",
       "      <td>172.2</td>\n",
       "      <td>0.0712</td>\n",
       "      <td>10.3</td>\n",
       "      <td>5.690000e+53</td>\n",
       "    </tr>\n",
       "    <tr>\n",
       "      <th>2061</th>\n",
       "      <td>2.19</td>\n",
       "      <td>174.7</td>\n",
       "      <td>0.0185</td>\n",
       "      <td>1.6</td>\n",
       "      <td>6.230000e+51</td>\n",
       "    </tr>\n",
       "    <tr>\n",
       "      <th>4157</th>\n",
       "      <td>2.27</td>\n",
       "      <td>20.0</td>\n",
       "      <td>0.0130</td>\n",
       "      <td>0.9</td>\n",
       "      <td>1.910000e+51</td>\n",
       "    </tr>\n",
       "    <tr>\n",
       "      <th>3057</th>\n",
       "      <td>32.36</td>\n",
       "      <td>34.9</td>\n",
       "      <td>0.0256</td>\n",
       "      <td>0.8</td>\n",
       "      <td>1.840000e+52</td>\n",
       "    </tr>\n",
       "    <tr>\n",
       "      <th>3015</th>\n",
       "      <td>1.75</td>\n",
       "      <td>26.8</td>\n",
       "      <td>0.0453</td>\n",
       "      <td>7.3</td>\n",
       "      <td>1.250000e+53</td>\n",
       "    </tr>\n",
       "  </tbody>\n",
       "</table>\n",
       "</div>"
      ],
      "text/plain": [
       "              p256    t90       V     z          L4pi\n",
       "trigger_num                                          \n",
       "5450          4.15  172.2  0.0712  10.3  5.690000e+53\n",
       "2061          2.19  174.7  0.0185   1.6  6.230000e+51\n",
       "4157          2.27   20.0  0.0130   0.9  1.910000e+51\n",
       "3057         32.36   34.9  0.0256   0.8  1.840000e+52\n",
       "3015          1.75   26.8  0.0453   7.3  1.250000e+53"
      ]
     },
     "execution_count": 7,
     "metadata": {},
     "output_type": "execute_result"
    }
   ],
   "source": [
    "# load redshift values for batse catalog\n",
    "path_cat_batse_redshift = os.path.join(env.DIR_CATALOGS, \"batse_redshift.xlsx\")\n",
    "df_batse_redshift = pd.read_excel(path_cat_batse_redshift, sheet_name=\"redshift\")\n",
    "\n",
    "# set trigger_num as index\n",
    "df_batse_redshift.set_index(\"trigger_num\", inplace=True)\n",
    "\n",
    "# show random rows\n",
    "df_batse_redshift.sample(5)"
   ]
  },
  {
   "attachments": {},
   "cell_type": "markdown",
   "metadata": {},
   "source": [
    "Set EE flag"
   ]
  },
  {
   "cell_type": "code",
   "execution_count": 8,
   "metadata": {},
   "outputs": [
    {
     "data": {
      "text/plain": [
       "False    2666\n",
       "True       36\n",
       "Name: ee, dtype: int64"
      ]
     },
     "execution_count": 8,
     "metadata": {},
     "output_type": "execute_result"
    }
   ],
   "source": [
    "# add column for EE flag\n",
    "df_batse[\"ee\"] = False\n",
    "\n",
    "# get name of BATSE GRBs with EE\n",
    "batse_grbs_with_ee = df_ee.loc[df_ee[\"catalog\"] == \"BATSE\", 'name'].values\n",
    "\n",
    "# set EE flag to True for BATSE GRBs with EE\n",
    "df_batse.loc[df_batse['name'].isin(batse_grbs_with_ee), \"ee\"] = True\n",
    "\n",
    "# how many BATSE GRBs with EE?\n",
    "df_batse[\"ee\"].value_counts()\n"
   ]
  },
  {
   "attachments": {},
   "cell_type": "markdown",
   "metadata": {},
   "source": [
    "Set *redshift* and *luminosity* values"
   ]
  },
  {
   "cell_type": "code",
   "execution_count": 9,
   "metadata": {},
   "outputs": [],
   "source": [
    "# add missing columns \n",
    "df_batse[\"redshift\"] = np.nan\n",
    "df_batse[\"luminosity\"] = np.nan\n",
    "# fill missing values\n",
    "for triggerr_num, row in df_batse_redshift.iterrows():\n",
    "    \n",
    "    # make sure that GRB is in BATSE catalog\n",
    "    assert triggerr_num in df_batse.index, \"Could not find GRB in BATSE catalog for {}\".format(triggerr_num)\n",
    "\n",
    "    # get t90 from BATSE redshift catalog\n",
    "    t90_1 = row[\"t90\"]\n",
    "    # get t90 from original BATSE\n",
    "    t90_2 = df_batse.loc[triggerr_num, \"t90\"]\n",
    "    \n",
    "    # check if they are close to each other\n",
    "    assert np.isclose(t90_1, t90_2, rtol=1e-2), \"t90 values are not close to each other for {}\".format(triggerr_num) \n",
    "\n",
    "    # fill redshift\n",
    "    df_batse.loc[triggerr_num, \"redshift\"] = row[\"z\"]\n",
    "    # fill luminosity\n",
    "    df_batse.loc[triggerr_num, \"luminosity\"] = row[\"L4pi\"]\n"
   ]
  },
  {
   "attachments": {},
   "cell_type": "markdown",
   "metadata": {},
   "source": [
    "Calculate features"
   ]
  },
  {
   "cell_type": "code",
   "execution_count": 10,
   "metadata": {},
   "outputs": [],
   "source": [
    "\n",
    "# calculate intrinsic t90\n",
    "df_batse[\"t90_intrinsic\"] = df_batse[\"t90\"]/(df_batse[\"redshift\"]+1)\n",
    "# take log of intrinsic t90\n",
    "df_batse[\"lgT90i\"] = df_batse[\"t90_intrinsic\"].apply(np.log10) \n",
    "# take log of t90\n",
    "df_batse[\"lgT90\"] = df_batse[\"t90\"].apply(np.log10)\n",
    "\n",
    "# calculate hardness\n",
    "df_batse[\"hardness\"] = df_batse[\"fluence_3\"]/df_batse[\"fluence_1\"]\n",
    "# take log of hardness\n",
    "df_batse[\"lgHrd\"] = df_batse[\"hardness\"].apply(np.log10)\n",
    "\n",
    "# take log of luminosity\n",
    "df_batse[\"lgLum\"] = df_batse[\"luminosity\"].apply(np.log10)\n"
   ]
  },
  {
   "attachments": {},
   "cell_type": "markdown",
   "metadata": {},
   "source": [
    "Save dataset"
   ]
  },
  {
   "cell_type": "code",
   "execution_count": 11,
   "metadata": {},
   "outputs": [],
   "source": [
    "# save BATSE catalog\n",
    "path_data_batse = os.path.join(env.DIR_DATASETS, \"batse.xlsx\")\n",
    "df_batse.to_excel(path_data_batse, sheet_name=\"data\", freeze_panes=(1,0), engine=\"xlsxwriter\")"
   ]
  },
  {
   "attachments": {},
   "cell_type": "markdown",
   "metadata": {},
   "source": [
    "## FERMI"
   ]
  },
  {
   "attachments": {},
   "cell_type": "markdown",
   "metadata": {},
   "source": [
    "Load FERMI catalog"
   ]
  },
  {
   "cell_type": "code",
   "execution_count": 12,
   "metadata": {},
   "outputs": [
    {
     "data": {
      "text/html": [
       "<div>\n",
       "<style scoped>\n",
       "    .dataframe tbody tr th:only-of-type {\n",
       "        vertical-align: middle;\n",
       "    }\n",
       "\n",
       "    .dataframe tbody tr th {\n",
       "        vertical-align: top;\n",
       "    }\n",
       "\n",
       "    .dataframe thead th {\n",
       "        text-align: right;\n",
       "    }\n",
       "</style>\n",
       "<table border=\"1\" class=\"dataframe\">\n",
       "  <thead>\n",
       "    <tr style=\"text-align: right;\">\n",
       "      <th></th>\n",
       "      <th>name</th>\n",
       "      <th>ra</th>\n",
       "      <th>dec</th>\n",
       "      <th>trigger_time</th>\n",
       "      <th>t90</th>\n",
       "      <th>fluence</th>\n",
       "      <th>flux_1024</th>\n",
       "      <th>flux_1024_time</th>\n",
       "      <th>flux_64</th>\n",
       "      <th>lii</th>\n",
       "      <th>bii</th>\n",
       "      <th>t50</th>\n",
       "      <th>fluence_batse</th>\n",
       "      <th>flux_256</th>\n",
       "      <th>flux_batse_1024</th>\n",
       "      <th>flux_batse_64</th>\n",
       "      <th>flux_batse_256</th>\n",
       "      <th>flnc_comp_ampl</th>\n",
       "      <th>flnc_comp_epeak</th>\n",
       "      <th>flnc_comp_index</th>\n",
       "    </tr>\n",
       "  </thead>\n",
       "  <tbody>\n",
       "    <tr>\n",
       "      <th>87</th>\n",
       "      <td>GRB160424492</td>\n",
       "      <td>319.485</td>\n",
       "      <td>-60.6148</td>\n",
       "      <td>57502.492436</td>\n",
       "      <td>6.592</td>\n",
       "      <td>2.727600e-06</td>\n",
       "      <td>7.3002</td>\n",
       "      <td>0.832</td>\n",
       "      <td>9.6573</td>\n",
       "      <td>334.4563</td>\n",
       "      <td>-41.1356</td>\n",
       "      <td>1.536</td>\n",
       "      <td>0.000002</td>\n",
       "      <td>8.1606</td>\n",
       "      <td>3.5522</td>\n",
       "      <td>4.5438</td>\n",
       "      <td>3.8365</td>\n",
       "      <td>0.011253</td>\n",
       "      <td>204.4114</td>\n",
       "      <td>-1.005932</td>\n",
       "    </tr>\n",
       "    <tr>\n",
       "      <th>22</th>\n",
       "      <td>GRB141022087</td>\n",
       "      <td>119.390</td>\n",
       "      <td>-75.1700</td>\n",
       "      <td>56952.086577</td>\n",
       "      <td>9.216</td>\n",
       "      <td>8.999400e-05</td>\n",
       "      <td>62.8970</td>\n",
       "      <td>6.272</td>\n",
       "      <td>97.2009</td>\n",
       "      <td>287.5767</td>\n",
       "      <td>-22.0850</td>\n",
       "      <td>4.608</td>\n",
       "      <td>0.00004</td>\n",
       "      <td>84.1565</td>\n",
       "      <td>33.0719</td>\n",
       "      <td>53.7563</td>\n",
       "      <td>46.1982</td>\n",
       "      <td>0.127996</td>\n",
       "      <td>503.7627</td>\n",
       "      <td>-0.840119</td>\n",
       "    </tr>\n",
       "    <tr>\n",
       "      <th>2170</th>\n",
       "      <td>GRB140408553</td>\n",
       "      <td>290.716</td>\n",
       "      <td>-12.5937</td>\n",
       "      <td>56755.552723</td>\n",
       "      <td>7.680</td>\n",
       "      <td>6.571000e-07</td>\n",
       "      <td>2.3897</td>\n",
       "      <td>-0.320</td>\n",
       "      <td>5.0282</td>\n",
       "      <td>25.0861</td>\n",
       "      <td>-12.6003</td>\n",
       "      <td>3.072</td>\n",
       "      <td>0.0</td>\n",
       "      <td>3.1100</td>\n",
       "      <td>0.7276</td>\n",
       "      <td>1.3932</td>\n",
       "      <td>0.8660</td>\n",
       "      <td>0.003567</td>\n",
       "      <td>415485.3000</td>\n",
       "      <td>-1.517260</td>\n",
       "    </tr>\n",
       "    <tr>\n",
       "      <th>2838</th>\n",
       "      <td>GRB191111547</td>\n",
       "      <td>239.410</td>\n",
       "      <td>-70.4200</td>\n",
       "      <td>58798.546653</td>\n",
       "      <td>158.212</td>\n",
       "      <td>8.636300e-06</td>\n",
       "      <td>10.2900</td>\n",
       "      <td>6.208</td>\n",
       "      <td>12.4335</td>\n",
       "      <td>317.3897</td>\n",
       "      <td>-12.9736</td>\n",
       "      <td>119.811</td>\n",
       "      <td>0.000005</td>\n",
       "      <td>11.3471</td>\n",
       "      <td>3.3653</td>\n",
       "      <td>4.3972</td>\n",
       "      <td>3.6091</td>\n",
       "      <td>NaN</td>\n",
       "      <td>NaN</td>\n",
       "      <td>NaN</td>\n",
       "    </tr>\n",
       "    <tr>\n",
       "      <th>2784</th>\n",
       "      <td>GRB090720276</td>\n",
       "      <td>203.694</td>\n",
       "      <td>-10.3350</td>\n",
       "      <td>55032.276485</td>\n",
       "      <td>4.480</td>\n",
       "      <td>2.914000e-06</td>\n",
       "      <td>9.7817</td>\n",
       "      <td>0.512</td>\n",
       "      <td>13.5526</td>\n",
       "      <td>320.0546</td>\n",
       "      <td>51.0902</td>\n",
       "      <td>1.597</td>\n",
       "      <td>0.000002</td>\n",
       "      <td>10.7591</td>\n",
       "      <td>4.1331</td>\n",
       "      <td>5.7647</td>\n",
       "      <td>4.6536</td>\n",
       "      <td>0.045486</td>\n",
       "      <td>106.8206</td>\n",
       "      <td>-0.608630</td>\n",
       "    </tr>\n",
       "  </tbody>\n",
       "</table>\n",
       "</div>"
      ],
      "text/plain": [
       "              name       ra      dec  trigger_time      t90       fluence  \\\n",
       "87    GRB160424492  319.485 -60.6148  57502.492436    6.592  2.727600e-06   \n",
       "22    GRB141022087  119.390 -75.1700  56952.086577    9.216  8.999400e-05   \n",
       "2170  GRB140408553  290.716 -12.5937  56755.552723    7.680  6.571000e-07   \n",
       "2838  GRB191111547  239.410 -70.4200  58798.546653  158.212  8.636300e-06   \n",
       "2784  GRB090720276  203.694 -10.3350  55032.276485    4.480  2.914000e-06   \n",
       "\n",
       "      flux_1024  flux_1024_time  flux_64       lii      bii      t50  \\\n",
       "87       7.3002           0.832   9.6573  334.4563 -41.1356    1.536   \n",
       "22      62.8970           6.272  97.2009  287.5767 -22.0850    4.608   \n",
       "2170     2.3897          -0.320   5.0282   25.0861 -12.6003    3.072   \n",
       "2838    10.2900           6.208  12.4335  317.3897 -12.9736  119.811   \n",
       "2784     9.7817           0.512  13.5526  320.0546  51.0902    1.597   \n",
       "\n",
       "     fluence_batse  flux_256  flux_batse_1024  flux_batse_64  flux_batse_256  \\\n",
       "87        0.000002    8.1606           3.5522         4.5438          3.8365   \n",
       "22         0.00004   84.1565          33.0719        53.7563         46.1982   \n",
       "2170           0.0    3.1100           0.7276         1.3932          0.8660   \n",
       "2838      0.000005   11.3471           3.3653         4.3972          3.6091   \n",
       "2784      0.000002   10.7591           4.1331         5.7647          4.6536   \n",
       "\n",
       "      flnc_comp_ampl  flnc_comp_epeak  flnc_comp_index  \n",
       "87          0.011253         204.4114        -1.005932  \n",
       "22          0.127996         503.7627        -0.840119  \n",
       "2170        0.003567      415485.3000        -1.517260  \n",
       "2838             NaN              NaN              NaN  \n",
       "2784        0.045486         106.8206        -0.608630  "
      ]
     },
     "execution_count": 12,
     "metadata": {},
     "output_type": "execute_result"
    }
   ],
   "source": [
    "# load fermi catalog\n",
    "path_cat_fermi = os.path.join(env.DIR_CATALOGS, \"fermi_catalog.xlsx\")\n",
    "df_fermi = pd.read_excel(path_cat_fermi, sheet_name=\"fermigbrst\")\n",
    "\n",
    "# show random rows\n",
    "df_fermi.sample(5)"
   ]
  },
  {
   "attachments": {},
   "cell_type": "markdown",
   "metadata": {},
   "source": [
    "Set EE flag"
   ]
  },
  {
   "cell_type": "code",
   "execution_count": 13,
   "metadata": {},
   "outputs": [
    {
     "data": {
      "text/plain": [
       "False    2859\n",
       "True       14\n",
       "Name: ee, dtype: int64"
      ]
     },
     "execution_count": 13,
     "metadata": {},
     "output_type": "execute_result"
    }
   ],
   "source": [
    "# add column for EE flag\n",
    "df_fermi[\"ee\"] = False\n",
    "\n",
    "# get name of FERMI GRBs with EE\n",
    "fermi_grbs_with_ee = df_ee.loc[df_ee[\"catalog\"] == \"FERMI\", 'name'].values\n",
    "\n",
    "# set EE flag to True for FERMI GRBs with EE\n",
    "df_fermi.loc[df_fermi['name'].isin(fermi_grbs_with_ee), \"ee\"] = True\n",
    "\n",
    "# how many FERMI GRBs with EE?\n",
    "df_fermi[\"ee\"].value_counts()\n"
   ]
  },
  {
   "attachments": {},
   "cell_type": "markdown",
   "metadata": {},
   "source": [
    "Calculate hardness ratio"
   ]
  },
  {
   "cell_type": "code",
   "execution_count": 14,
   "metadata": {},
   "outputs": [],
   "source": [
    "from scipy.integrate import quad\n",
    "\n",
    "# calculate hardness\n",
    "df_fermi[\"hardness\"] = np.nan\n",
    "for index, row in df_fermi.iterrows():\n",
    "    epeak = row[\"flnc_comp_epeak\"]\n",
    "    alpha = row[\"flnc_comp_index\"]\n",
    "    amplitude = row[\"flnc_comp_ampl\"] \n",
    "    \n",
    "    if np.isnan(epeak) or np.isnan(alpha) or np.isnan(amplitude):\n",
    "        continue\n",
    "    \n",
    "    flux = lambda energy: energy * amplitude * ((energy / 100)**alpha) * \\\n",
    "    np.exp((-1*(alpha + 2) * energy / epeak))\n",
    "    \n",
    "    fluence3, err = quad(flux, 100, 300)\n",
    "    fluence1, err = quad(flux, 25, 50)\n",
    "    \n",
    "    # hardness\n",
    "    df_fermi.loc[index, \"hardness\"] = fluence3/fluence1"
   ]
  },
  {
   "attachments": {},
   "cell_type": "markdown",
   "metadata": {},
   "source": [
    "Log transform of features"
   ]
  },
  {
   "cell_type": "code",
   "execution_count": 15,
   "metadata": {},
   "outputs": [],
   "source": [
    "df_fermi[\"lgT90\"] = df_fermi[\"t90\"].apply(np.log10)\n",
    "df_fermi[\"lgHrd\"] = df_fermi[\"hardness\"].apply(np.log10)"
   ]
  },
  {
   "attachments": {},
   "cell_type": "markdown",
   "metadata": {},
   "source": [
    "Save dataset"
   ]
  },
  {
   "cell_type": "code",
   "execution_count": 16,
   "metadata": {},
   "outputs": [],
   "source": [
    "# save FERMI catalog\n",
    "path_data_fermi = os.path.join(env.DIR_DATASETS, \"fermi.xlsx\")\n",
    "df_fermi.to_excel(path_data_fermi, sheet_name=\"data\", freeze_panes=(1,0), engine=\"xlsxwriter\")"
   ]
  },
  {
   "attachments": {},
   "cell_type": "markdown",
   "metadata": {},
   "source": [
    "## SWIFT"
   ]
  },
  {
   "attachments": {},
   "cell_type": "markdown",
   "metadata": {},
   "source": [
    "Load SWIFT-t1 data and calculate luminosity"
   ]
  },
  {
   "cell_type": "code",
   "execution_count": 26,
   "metadata": {},
   "outputs": [],
   "source": [
    "from grbtools.swift.luminosity import calculate_luminosity\n",
    "\n",
    "# load csv data\n",
    "path_swift_t1 = os.path.join(env.DIR_CATALOGS, \"swift_t1s.xlsx\")\n",
    "df_swift_t1 = pd.read_excel(path_swift_t1)\n",
    "\n",
    "# calculate luminosity\n",
    "df_swift_t1 = calculate_luminosity(df_swift_t1)"
   ]
  },
  {
   "attachments": {},
   "cell_type": "markdown",
   "metadata": {},
   "source": [
    "Load SWIFT-t100 data and calculate hardness ratio"
   ]
  },
  {
   "cell_type": "code",
   "execution_count": 27,
   "metadata": {},
   "outputs": [],
   "source": [
    "from grbtools.swift.hardness import calculate_hardness\n",
    "\n",
    "# load csv data\n",
    "path_swift_t100 = os.path.join(env.DIR_CATALOGS, \"swift_t100s.xlsx\")\n",
    "df_swift_t100 = pd.read_excel(path_swift_t100)\n",
    "\n",
    "# calculate luminosity\n",
    "df_swift_t100 = calculate_hardness(df_swift_t100)\n",
    "\n",
    "# select only data column\n",
    "df_swift_t100 = df_swift_t100[[\"grbname\", \"hardness_ratio\"]]"
   ]
  },
  {
   "attachments": {},
   "cell_type": "markdown",
   "metadata": {},
   "source": [
    "Merge datasets and create SWIFT catalog"
   ]
  },
  {
   "cell_type": "code",
   "execution_count": 28,
   "metadata": {},
   "outputs": [
    {
     "data": {
      "text/html": [
       "<div>\n",
       "<style scoped>\n",
       "    .dataframe tbody tr th:only-of-type {\n",
       "        vertical-align: middle;\n",
       "    }\n",
       "\n",
       "    .dataframe tbody tr th {\n",
       "        vertical-align: top;\n",
       "    }\n",
       "\n",
       "    .dataframe thead th {\n",
       "        text-align: right;\n",
       "    }\n",
       "</style>\n",
       "<table border=\"1\" class=\"dataframe\">\n",
       "  <thead>\n",
       "    <tr style=\"text-align: right;\">\n",
       "      <th></th>\n",
       "      <th>name</th>\n",
       "      <th>z</th>\n",
       "      <th>z_comment</th>\n",
       "      <th>t90</th>\n",
       "      <th>t1s_best_model</th>\n",
       "      <th>t1s_pl_alpha</th>\n",
       "      <th>t1s_pl_norm</th>\n",
       "      <th>t1s_cpl_alpha</th>\n",
       "      <th>t1s_cpl_norm</th>\n",
       "      <th>t1s_cpl_epeak</th>\n",
       "      <th>lum_kcorr</th>\n",
       "      <th>kcorr</th>\n",
       "      <th>flux</th>\n",
       "      <th>model_used</th>\n",
       "      <th>hardness_ratio</th>\n",
       "    </tr>\n",
       "  </thead>\n",
       "  <tbody>\n",
       "    <tr>\n",
       "      <th>176</th>\n",
       "      <td>GRB180402A</td>\n",
       "      <td>NaN</td>\n",
       "      <td>NaN</td>\n",
       "      <td>0.180</td>\n",
       "      <td>PL</td>\n",
       "      <td>-0.878314</td>\n",
       "      <td>0.015836</td>\n",
       "      <td>-0.768440</td>\n",
       "      <td>0.017592</td>\n",
       "      <td>681.428</td>\n",
       "      <td>NaN</td>\n",
       "      <td>NaN</td>\n",
       "      <td>NaN</td>\n",
       "      <td>None</td>\n",
       "      <td>3.594927</td>\n",
       "    </tr>\n",
       "    <tr>\n",
       "      <th>1072</th>\n",
       "      <td>GRB080430</td>\n",
       "      <td>0.7670</td>\n",
       "      <td>NaN</td>\n",
       "      <td>13.872</td>\n",
       "      <td>PL</td>\n",
       "      <td>-1.750640</td>\n",
       "      <td>0.019695</td>\n",
       "      <td>-1.645160</td>\n",
       "      <td>0.022479</td>\n",
       "      <td>151.587</td>\n",
       "      <td>4.290552e+50</td>\n",
       "      <td>0.867659</td>\n",
       "      <td>1.817248e-07</td>\n",
       "      <td>PL</td>\n",
       "      <td>0.813655</td>\n",
       "    </tr>\n",
       "    <tr>\n",
       "      <th>779</th>\n",
       "      <td>GRB110709B</td>\n",
       "      <td>NaN</td>\n",
       "      <td>NaN</td>\n",
       "      <td>810.472</td>\n",
       "      <td>PL</td>\n",
       "      <td>-1.262160</td>\n",
       "      <td>0.031960</td>\n",
       "      <td>-0.945692</td>\n",
       "      <td>0.045509</td>\n",
       "      <td>175.264</td>\n",
       "      <td>NaN</td>\n",
       "      <td>NaN</td>\n",
       "      <td>NaN</td>\n",
       "      <td>None</td>\n",
       "      <td>1.243340</td>\n",
       "    </tr>\n",
       "    <tr>\n",
       "      <th>562</th>\n",
       "      <td>GRB131103A</td>\n",
       "      <td>0.5955</td>\n",
       "      <td>NaN</td>\n",
       "      <td>15.208</td>\n",
       "      <td>PL</td>\n",
       "      <td>-1.370380</td>\n",
       "      <td>0.012904</td>\n",
       "      <td>-0.209332</td>\n",
       "      <td>0.052205</td>\n",
       "      <td>74.815</td>\n",
       "      <td>1.363624e+50</td>\n",
       "      <td>0.745164</td>\n",
       "      <td>1.254640e-07</td>\n",
       "      <td>PL</td>\n",
       "      <td>0.755719</td>\n",
       "    </tr>\n",
       "    <tr>\n",
       "      <th>784</th>\n",
       "      <td>GRB110530A</td>\n",
       "      <td>NaN</td>\n",
       "      <td>NaN</td>\n",
       "      <td>55.728</td>\n",
       "      <td>PL</td>\n",
       "      <td>-1.251950</td>\n",
       "      <td>0.003652</td>\n",
       "      <td>-1.247040</td>\n",
       "      <td>0.003668</td>\n",
       "      <td>9999.360</td>\n",
       "      <td>NaN</td>\n",
       "      <td>NaN</td>\n",
       "      <td>NaN</td>\n",
       "      <td>None</td>\n",
       "      <td>0.688256</td>\n",
       "    </tr>\n",
       "  </tbody>\n",
       "</table>\n",
       "</div>"
      ],
      "text/plain": [
       "            name       z z_comment      t90 t1s_best_model  t1s_pl_alpha  \\\n",
       "176   GRB180402A     NaN       NaN    0.180             PL     -0.878314   \n",
       "1072   GRB080430  0.7670       NaN   13.872             PL     -1.750640   \n",
       "779   GRB110709B     NaN       NaN  810.472             PL     -1.262160   \n",
       "562   GRB131103A  0.5955       NaN   15.208             PL     -1.370380   \n",
       "784   GRB110530A     NaN       NaN   55.728             PL     -1.251950   \n",
       "\n",
       "      t1s_pl_norm  t1s_cpl_alpha  t1s_cpl_norm  t1s_cpl_epeak     lum_kcorr  \\\n",
       "176      0.015836      -0.768440      0.017592        681.428           NaN   \n",
       "1072     0.019695      -1.645160      0.022479        151.587  4.290552e+50   \n",
       "779      0.031960      -0.945692      0.045509        175.264           NaN   \n",
       "562      0.012904      -0.209332      0.052205         74.815  1.363624e+50   \n",
       "784      0.003652      -1.247040      0.003668       9999.360           NaN   \n",
       "\n",
       "         kcorr          flux model_used  hardness_ratio  \n",
       "176        NaN           NaN       None        3.594927  \n",
       "1072  0.867659  1.817248e-07         PL        0.813655  \n",
       "779        NaN           NaN       None        1.243340  \n",
       "562   0.745164  1.254640e-07         PL        0.755719  \n",
       "784        NaN           NaN       None        0.688256  "
      ]
     },
     "execution_count": 28,
     "metadata": {},
     "output_type": "execute_result"
    }
   ],
   "source": [
    "# merge dataframes\n",
    "df_swift = pd.merge(df_swift_t1, df_swift_t100, on=\"grbname\", how=\"left\")\n",
    "\n",
    "# rename first column to 'name'\n",
    "df_swift.rename(columns={'grbname': 'name'}, inplace=True)\n",
    "\n",
    "# show random rows\n",
    "df_swift.sample(5)\n"
   ]
  },
  {
   "attachments": {},
   "cell_type": "markdown",
   "metadata": {},
   "source": [
    "Set EE flag"
   ]
  },
  {
   "cell_type": "code",
   "execution_count": 20,
   "metadata": {},
   "outputs": [
    {
     "data": {
      "text/plain": [
       "False    1372\n",
       "True       16\n",
       "Name: ee, dtype: int64"
      ]
     },
     "execution_count": 20,
     "metadata": {},
     "output_type": "execute_result"
    }
   ],
   "source": [
    "# add column for EE flag\n",
    "df_swift[\"ee\"] = False\n",
    "\n",
    "# get name of FERMI GRBs with EE\n",
    "swift_grbs_with_ee = df_ee.loc[df_ee[\"catalog\"] == \"SWIFT\", 'name'].values\n",
    "\n",
    "# set EE flag to True for SWIFT GRBs with EE\n",
    "df_swift.loc[df_swift['name'].isin(swift_grbs_with_ee), \"ee\"] = True\n",
    "\n",
    "# how many SWIFT GRBs with EE?\n",
    "df_swift[\"ee\"].value_counts()"
   ]
  },
  {
   "attachments": {},
   "cell_type": "markdown",
   "metadata": {},
   "source": [
    "Set 'Magnetar' flag"
   ]
  },
  {
   "cell_type": "code",
   "execution_count": 21,
   "metadata": {},
   "outputs": [
    {
     "data": {
      "text/plain": [
       "False    1376\n",
       "True       12\n",
       "Name: magnetar, dtype: int64"
      ]
     },
     "execution_count": 21,
     "metadata": {},
     "output_type": "execute_result"
    }
   ],
   "source": [
    "# first, load magnetar catalog\n",
    "path_cat_magnetar = os.path.join(env.DIR_CATALOGS, \"swift_magnetars.xlsx\")\n",
    "df_magnetar = pd.read_excel(path_cat_magnetar, sheet_name=\"magnetars\")\n",
    "\n",
    "# get name of magnetars\n",
    "magnetar_names = df_magnetar[\"name\"].values\n",
    "\n",
    "# add column for magnetar flag\n",
    "df_swift[\"magnetar\"] = False\n",
    "\n",
    "# set magnetar flag to True for SWIFT GRBs with magnetar\n",
    "df_swift.loc[df_swift['name'].isin(magnetar_names), \"magnetar\"] = True\n",
    "\n",
    "# how many SWIFT GRBs with magnetar?\n",
    "df_swift[\"magnetar\"].value_counts()"
   ]
  },
  {
   "attachments": {},
   "cell_type": "markdown",
   "metadata": {},
   "source": [
    "Calculate features"
   ]
  },
  {
   "cell_type": "code",
   "execution_count": 22,
   "metadata": {},
   "outputs": [],
   "source": [
    "# compute intrinsic \n",
    "df_swift[\"t90_intrinsic\"] =  df_swift[\"t90\"]/(df_swift[\"z\"]+1)\n",
    "\n",
    "# take logs\n",
    "df_swift[\"lgT90\"] = df_swift[\"t90\"].apply(np.log10)\n",
    "# take log of intrinsic t90\n",
    "df_swift[\"lgT90i\"] = df_swift[\"t90_intrinsic\"].apply(np.log10)\n",
    "# take log of hardness\n",
    "df_swift[\"lgHrd\"] = df_swift[\"hardness_ratio\"].apply(np.log10)\n",
    "# take log of luminosity\n",
    "df_swift[\"lgLum\"] = df_swift[\"lum_kcorr\"].apply(np.log10)"
   ]
  },
  {
   "attachments": {},
   "cell_type": "markdown",
   "metadata": {},
   "source": [
    "Save dataset"
   ]
  },
  {
   "cell_type": "code",
   "execution_count": 23,
   "metadata": {},
   "outputs": [],
   "source": [
    "# save SWIFT catalog\n",
    "path_data_swift = os.path.join(env.DIR_DATASETS, \"swift.xlsx\")\n",
    "df_swift.to_excel(path_data_swift, sheet_name=\"data\", freeze_panes=(1,0), engine=\"xlsxwriter\")"
   ]
  }
 ],
 "metadata": {
  "kernelspec": {
   "display_name": "grb",
   "language": "python",
   "name": "python3"
  },
  "language_info": {
   "codemirror_mode": {
    "name": "ipython",
    "version": 3
   },
   "file_extension": ".py",
   "mimetype": "text/x-python",
   "name": "python",
   "nbconvert_exporter": "python",
   "pygments_lexer": "ipython3",
   "version": "3.10.12"
  },
  "orig_nbformat": 4
 },
 "nbformat": 4,
 "nbformat_minor": 2
}
